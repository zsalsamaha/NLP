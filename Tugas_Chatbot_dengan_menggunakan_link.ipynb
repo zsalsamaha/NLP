{
  "nbformat": 4,
  "nbformat_minor": 0,
  "metadata": {
    "colab": {
      "name": "Tugas Chatbot dengan menggunakan link",
      "provenance": []
    },
    "kernelspec": {
      "name": "python3",
      "display_name": "Python 3"
    },
    "language_info": {
      "name": "python"
    },
    "accelerator": "GPU"
  },
  "cells": [
    {
      "cell_type": "code",
      "metadata": {
        "id": "xd7wFgKrhLiw"
      },
      "source": [
        "#sumber materi : https://warstek.com/kabel-laut/"
      ],
      "execution_count": null,
      "outputs": []
    },
    {
      "cell_type": "code",
      "metadata": {
        "colab": {
          "base_uri": "https://localhost:8080/"
        },
        "id": "HLI3D-hxhosd",
        "outputId": "76edf236-2f7a-434c-89cb-6f27ad9e5b78"
      },
      "source": [
        "!pip install newspaper3k"
      ],
      "execution_count": 1,
      "outputs": [
        {
          "output_type": "stream",
          "name": "stdout",
          "text": [
            "Collecting newspaper3k\n",
            "  Downloading newspaper3k-0.2.8-py3-none-any.whl (211 kB)\n",
            "\u001b[K     |████████████████████████████████| 211 kB 5.2 MB/s \n",
            "\u001b[?25hRequirement already satisfied: PyYAML>=3.11 in /usr/local/lib/python3.7/dist-packages (from newspaper3k) (3.13)\n",
            "Collecting jieba3k>=0.35.1\n",
            "  Downloading jieba3k-0.35.1.zip (7.4 MB)\n",
            "\u001b[K     |████████████████████████████████| 7.4 MB 16.0 MB/s \n",
            "\u001b[?25hCollecting tinysegmenter==0.3\n",
            "  Downloading tinysegmenter-0.3.tar.gz (16 kB)\n",
            "Requirement already satisfied: Pillow>=3.3.0 in /usr/local/lib/python3.7/dist-packages (from newspaper3k) (7.1.2)\n",
            "Collecting feedfinder2>=0.0.4\n",
            "  Downloading feedfinder2-0.0.4.tar.gz (3.3 kB)\n",
            "Requirement already satisfied: nltk>=3.2.1 in /usr/local/lib/python3.7/dist-packages (from newspaper3k) (3.2.5)\n",
            "Collecting feedparser>=5.2.1\n",
            "  Downloading feedparser-6.0.8-py3-none-any.whl (81 kB)\n",
            "\u001b[K     |████████████████████████████████| 81 kB 8.3 MB/s \n",
            "\u001b[?25hRequirement already satisfied: lxml>=3.6.0 in /usr/local/lib/python3.7/dist-packages (from newspaper3k) (4.2.6)\n",
            "Requirement already satisfied: requests>=2.10.0 in /usr/local/lib/python3.7/dist-packages (from newspaper3k) (2.23.0)\n",
            "Requirement already satisfied: python-dateutil>=2.5.3 in /usr/local/lib/python3.7/dist-packages (from newspaper3k) (2.8.2)\n",
            "Collecting tldextract>=2.0.1\n",
            "  Downloading tldextract-3.1.2-py2.py3-none-any.whl (87 kB)\n",
            "\u001b[K     |████████████████████████████████| 87 kB 5.0 MB/s \n",
            "\u001b[?25hRequirement already satisfied: beautifulsoup4>=4.4.1 in /usr/local/lib/python3.7/dist-packages (from newspaper3k) (4.6.3)\n",
            "Collecting cssselect>=0.9.2\n",
            "  Downloading cssselect-1.1.0-py2.py3-none-any.whl (16 kB)\n",
            "Requirement already satisfied: six in /usr/local/lib/python3.7/dist-packages (from feedfinder2>=0.0.4->newspaper3k) (1.15.0)\n",
            "Collecting sgmllib3k\n",
            "  Downloading sgmllib3k-1.0.0.tar.gz (5.8 kB)\n",
            "Requirement already satisfied: certifi>=2017.4.17 in /usr/local/lib/python3.7/dist-packages (from requests>=2.10.0->newspaper3k) (2021.10.8)\n",
            "Requirement already satisfied: urllib3!=1.25.0,!=1.25.1,<1.26,>=1.21.1 in /usr/local/lib/python3.7/dist-packages (from requests>=2.10.0->newspaper3k) (1.24.3)\n",
            "Requirement already satisfied: idna<3,>=2.5 in /usr/local/lib/python3.7/dist-packages (from requests>=2.10.0->newspaper3k) (2.10)\n",
            "Requirement already satisfied: chardet<4,>=3.0.2 in /usr/local/lib/python3.7/dist-packages (from requests>=2.10.0->newspaper3k) (3.0.4)\n",
            "Collecting requests-file>=1.4\n",
            "  Downloading requests_file-1.5.1-py2.py3-none-any.whl (3.7 kB)\n",
            "Requirement already satisfied: filelock>=3.0.8 in /usr/local/lib/python3.7/dist-packages (from tldextract>=2.0.1->newspaper3k) (3.3.2)\n",
            "Building wheels for collected packages: tinysegmenter, feedfinder2, jieba3k, sgmllib3k\n",
            "  Building wheel for tinysegmenter (setup.py) ... \u001b[?25l\u001b[?25hdone\n",
            "  Created wheel for tinysegmenter: filename=tinysegmenter-0.3-py3-none-any.whl size=13552 sha256=8ae2178753e33cd69fdad75b99e70f48d1f3e6f44cccaa9288f80ceca2fc15e9\n",
            "  Stored in directory: /root/.cache/pip/wheels/df/67/41/faca10fa501ca010be41b49d40360c2959e1c4f09bcbfa37fa\n",
            "  Building wheel for feedfinder2 (setup.py) ... \u001b[?25l\u001b[?25hdone\n",
            "  Created wheel for feedfinder2: filename=feedfinder2-0.0.4-py3-none-any.whl size=3356 sha256=a517f3791b71f9172a6df411888ae0c1d8338797c7f0a1e9c5cf76f1e162ae7d\n",
            "  Stored in directory: /root/.cache/pip/wheels/7f/d4/8f/6e2ca54744c9d7292d88ddb8d42876bcdab5e6d84a21c10346\n",
            "  Building wheel for jieba3k (setup.py) ... \u001b[?25l\u001b[?25hdone\n",
            "  Created wheel for jieba3k: filename=jieba3k-0.35.1-py3-none-any.whl size=7398405 sha256=7748c163867f9eec6d25a448b7eeac6f5d76e0b4cfa67c5aaf65fab4a32bf7b7\n",
            "  Stored in directory: /root/.cache/pip/wheels/4c/91/46/3c208287b726df325a5979574324878b679116e4baae1af3c3\n",
            "  Building wheel for sgmllib3k (setup.py) ... \u001b[?25l\u001b[?25hdone\n",
            "  Created wheel for sgmllib3k: filename=sgmllib3k-1.0.0-py3-none-any.whl size=6065 sha256=aef07fd3392cb274d302700671764e292d659329de27f391904f6ab066cd4acc\n",
            "  Stored in directory: /root/.cache/pip/wheels/73/ad/a4/0dff4a6ef231fc0dfa12ffbac2a36cebfdddfe059f50e019aa\n",
            "Successfully built tinysegmenter feedfinder2 jieba3k sgmllib3k\n",
            "Installing collected packages: sgmllib3k, requests-file, tldextract, tinysegmenter, jieba3k, feedparser, feedfinder2, cssselect, newspaper3k\n",
            "Successfully installed cssselect-1.1.0 feedfinder2-0.0.4 feedparser-6.0.8 jieba3k-0.35.1 newspaper3k-0.2.8 requests-file-1.5.1 sgmllib3k-1.0.0 tinysegmenter-0.3 tldextract-3.1.2\n"
          ]
        }
      ]
    },
    {
      "cell_type": "code",
      "metadata": {
        "id": "yWGbRZX1hr8k"
      },
      "source": [
        "# Import library\n",
        "from newspaper import Article\n",
        "import random\n",
        "import nltk\n",
        "import string\n",
        "from sklearn.feature_extraction.text import CountVectorizer\n",
        "from sklearn.metrics.pairwise import cosine_similarity\n",
        "import numpy as np\n",
        "import warnings\n",
        "warnings.filterwarnings('ignore')"
      ],
      "execution_count": 2,
      "outputs": []
    },
    {
      "cell_type": "code",
      "metadata": {
        "colab": {
          "base_uri": "https://localhost:8080/"
        },
        "id": "pxCXDWVahx39",
        "outputId": "cec2f0d1-9a45-4395-a240-aff41b5073ed"
      },
      "source": [
        "nltk.download('punkt', quiet=True)"
      ],
      "execution_count": 3,
      "outputs": [
        {
          "output_type": "execute_result",
          "data": {
            "text/plain": [
              "True"
            ]
          },
          "metadata": {},
          "execution_count": 3
        }
      ]
    },
    {
      "cell_type": "code",
      "metadata": {
        "colab": {
          "base_uri": "https://localhost:8080/"
        },
        "id": "yF9Ka-huh3PX",
        "outputId": "b2ff6497-2360-4de1-db95-b7300900d264"
      },
      "source": [
        "article = Article('https://warstek.com/kabel-laut/')\n",
        "article.download()\n",
        "article.parse()\n",
        "article.nlp()\n",
        "corpus = article.text\n",
        "print(corpus)"
      ],
      "execution_count": 4,
      "outputs": [
        {
          "output_type": "stream",
          "name": "stdout",
          "text": [
            "Telkomsel, Indihome, dan Kabel Laut JaSuKa\n",
            "\n",
            "Pada hari Minggu lalu (19 September 2021), terjadi gangguan jaringan internet pada Telkomsel dan Indihome. Gangguan tersebut menyebabkan penurunan kualitas layanan TelkomGroup baik fixed maupun mobile broadband di beberapa wilayah Indonesia. Di masa pandemi yang menuntut orang untuk berada di rumah seperti ini, gangguan internet tentu menjadi masalah besar. Berbagai kegiatan penting seperti Seleksi Kompetensi Dasar (SKD) CPNS mengalami penundaan. Netizen pun banyak berkomentar negatif terkait hal ini. Saat artikel ini dirilis, gangguan tersebut mungkin belum benar-benar terselesaikan.\n",
            "\n",
            "Gangguan tersebut disebabkan oleh masalah pada sistem komunikasi kabel laut JaSuKa (Jawa, Sumatera dan Kalimantan) ruas Batam-Pontianak. Telkom memperkirakan proses perbaikan kabel laut yang terganggu akan berlangsung sekitar sebulan. Meski begitu, Telkom mencoba berbagai alternatif agar jaringan internet tetap dapat berjalan sebaik mungkin, meski tentu tidak sebaik ketika kondisi normal.\n",
            "\n",
            "Bagaimana pun juga, gangguan ini membuat banyak orang bertanya-tanya, “Apa hubungannya kabel di laut dengan internet?”, “Kenapa jaringan internet itu malah lewat kabel laut?”, “Kenapa nggak pakai satelit aja?”, “Kenapa jaringannya tidak segera membaik?”, dan lainnya. Artikel singkat ini akan mencoba membahas sedikit terkait hal itu.\n",
            "\n",
            "Ya, Internet itu ada di Bawah Laut\n",
            "\n",
            "Internet sering diasosiasikan dengan kata cloud atau wireless sehingga kita merasa bahwa internet itu dibawa oleh udara di sekitar kita. Ketika kita mendengar kata “jaringan internet”, yang terbayang mungkin gelombang antara menara pemancar di Bumi dengan satelit di angkasa. Itu tidak sepenuhnya salah. Internet memang ada di sekitar kita dan satelit memegang peran penting untuk itu. Namun, persepsi itu membuat kita melupakan bagian lain dari internet. Bagian terpenting yang sangat vital namun tidak akan pernah kita lihat, yaitu kabel laut. Sebelumnya, perlu kita ketahui bersama bahwa:\n",
            "\n",
            "99% Komunikasi Data Internasional itu Melalui Kabel Laut\n",
            "\n",
            "Itu adalah kalimat yang sudah banyak disampaikan di berbagai media massa, namun sepertinya masih belum banyak diketahui masyarakat umum. Lebih detailnya lagi, hanya sekitar 300 kabel bawah laut yang bertanggung jawab terhadap 99% lalu lintas komunikasi data internasional.\n",
            "\n",
            "Jaringan Kabel Laut di Dunia – www.submarinecablemap.com\n",
            "\n",
            "Gambar di atas merupakan jaringan kabel laut di dunia yang dapat diakses di www.submarinecablemap.com. Di sana, kita tidak hanya bisa melihat jaringan kabel secara keseluruhan, namun juga melihat lebih detail terkait salah satu kabel yang ada. Dari gambar di atas, jaringannya memang terlihat sangat banyak dan sangat rumit. Namun, kita perlu ingat bahwa komunikasi yang senantiasa terjadi di internet itu juga sangat banyak dan sangat rumit, jauh lebih banyak dan lebih rumit dari yang bisa kita bayangkan.\n",
            "\n",
            "Ketika kita mengirim satu chat ke teman di samping kita misalnya. Bisa jadi chat kita akan menempuh perjalanan yang amat sangat jauh. Mulai dari puluhan kilometer jalur darat secara wireless, kemudian melalui ribuan kilometer kabel laut, menuju ke data center di China atau Amerika, lalu kembali lagi ke Indonesia melalui kabel laut, dan sampai ke teman di samping kita secara wireless. Itu salah satu skenario yang mungkin terjadi, bisa saja jauh lebih pendek atau jauh lebih panjang. Sebagai mahasiswa Teknik Elektro yang pernah sedikit mendalami internet, yang bisa penulis katakan terkait internet adalah “It’s never been simple”\n",
            "\n",
            "Mengenal Kabel Laut\n",
            "\n",
            "Ketika mendengar bahwa 99% internet itu melewati kabel laut, apa bayangan kita terkait bentuk fisik dari kabel laut itu? Ukurannya mungkin memang sangat bervariasi, namun gambar berikut bisa memberikan gambaran bahwa ukuran kabelnya bisa jadi hanya sekecil ini\n",
            "\n",
            "Isi dari Kabel Laut – 99percentinvisible.org\n",
            "\n",
            "Hampir seluruh luasannya digunakan sebagai pelindung. Bagian yang mengalirkan informasi adalah fiber optik yang ukurannya tidak berbeda jauh dari sehelai rambut kita. Meski sangat kecil, dia mampu membawa informasi dengan sangat cepat, mendekati kecepatan cahaya. Itu karena informasi dibawa bukan sebagai sinyal listrik seperti kabel di rumah, namun sebagai sinyal cahaya. Kapasitasnya juga sangat besar, satu helai saja bisa memiliki kapasitas 100 gigabit per sekon. [Baca: Dasar Komunikasi Fiber Optik dan FTTH (Fiber To The Home)]\n",
            "\n",
            "Dengan itu semua, kabel laut jauh lebih cepat daripada satelit. Itu karena satelit yang biasanya digunakan untuk internet berada puluhan ribu kilometer di atas kita. Sementara itu, jalur melalui laut tidak akan lebih dari belasan ribu kilometer saja. Kapasitas transfer data dari satelit juga jauh lebih sulit untuk ditingkatkan dibanding kabel laut. Maka, meski keduanya memanfaatkan kecepatan cahaya, secara umum kabel laut tetap jauh lebih cepat daripada satelit. (Baca: SpaceX Luncurkan 60 Satelit Penyedia Internet Starlink)\n",
            "\n",
            "Namun, kabel laut juga memiliki banyak masalah. Banyak pihak yang menyebutkan bahwa kabel laut yang menjadi tulang punggung internet kita ini sebenarnya sangatlah rentan. Kabel laut dapat mengalami masalah akibat faktor alam, namun ini hanya mencakup 14 persen saja. Association of Sea Cable Communication Systems menyebutkan bahwa sebanyak 47% gangguan kabel laut disebabkan oleh jangkar kapal. Sementara itu, 28% disebabkan oleh sektor perikanan yang menggunakan FAD (fish aggregating devices). Di Indonesia pun, jangkar juga menjadi penyebab gangguan kabel terbesar. Hal itu mengingat lautan Indonesia juga sering dilewati banyak kapal.\n",
            "\n",
            "Jaringan Kabel Laut di Indonesia\n",
            "\n",
            "Kabel laut yang ada di negeri kita juga cukup banyak. Hal itu dapat dilihat pada Gambar berikut yang juga didapatkan dari www.submarinecablemap.com. Pada Gambar ini, jaringan kabel JaSuKa yang dimiliki Telkom Indonesia terlihat berwarna biru tua dan menghubungkan berbagai titik di Jawa, Sumatera, dan Kalimantan. JaSuKa memiliki total panjang hampir 11 ribu kilometer dan disebut menjadi salah satu yang terpanjang di dunia.\n",
            "\n",
            "Jaringan Kabel Laut di Indonesia – www.submarinecablemap.com\n",
            "\n",
            "Kabel laut memang jauh lebih murah daripada satelit, namun tetap saja tidak mudah dan tidak sederhana. Baik perencanaan maupun pengelolaannya memerlukan banyak pengorbanan. Ini wajar saja mengingat dunia bawah laut sangatlah kompleks dan penuh dengan berbagai hal yang tak terduga. Perlu diketahui pula bahwa setiap beberapa puluh kilometer, perlu terdapat repeater untuk menguatkan kembali sinyal cahaya yang telah melemah. Melihat kompleksitas itu, wajar saja jika perbaikan gangguan tidak bisa selesai dalam satu malam.\n",
            "\n",
            "Meski demikian, sistem yang besar umumnya memiliki berbagai alternatif jika sistem utamanya gagal. Hal ini juga kita dengar dari pihak Telkom, bahwa jalur backup dan alternatif telah diaktifkan untuk destinasi utama tertentu. Berbagai hal teknis yang tidak akan dipahami masyarakat umum pasti juga telah dilakukan.\n",
            "\n",
            "Bagaimana pun juga, gangguan ini menunjukan pada kita semua bahwa sistem internet di Indonesia sebenarnya masih belum kuat dan sangat rentan, apalagi jika kita meninjau Indonesia Timur. Di satu sisi, masyarakat umum perlu menyadari bahwa sistem internet secara fisiknya memang sangat kompleks dan sangat rentan terhadap berbagai gangguan serta tidak bisa diperbaiki dengan mudah. Di sisi lain, berbagai pihak yang berpartisipasi langsung di dalamnya perlu terus melakukan evaluasi dan pengembangan agar sistem internet di negeri kita dapat menjadi lebih handal. (Baca: Analisis terhadap Kualitas Jaringan Internet Indonesia yang Memburuk)\n",
            "\n",
            "Referensi\n",
            "\n",
            "Nur Fitriatus Shalihah, Sari Hardiyanto. Kronologi Gangguan Indihome dan Telkomsel Selama Beberapa Hari. Diakses dari Kompas: https://www.kompas.com/tren/read/2021/09/22/100958665/kronologi-gangguan-indihome-dan-telkomsel-selama-beberapa-hari?page=all\n",
            "\n",
            "Conney Stephanie, Oik Yusuf. Telkom Sebut Perbaikan Kabel Laut Jasuka Butuh Waktu Sebulan. Diakses dari Kompas: https://tekno.kompas.com/read/2021/09/22/19534287/telkom-sebut-perbaikan-kabel-laut-jasuka-butuh-waktu-sebulan\n",
            "\n",
            "Submarine Cable Map. https://www.submarinecablemap.com\n",
            "\n",
            "Kurt Kohlstedt. Underwater Cloud: Inside the Cables Carrying 99% of Transoceanic Data Traffic. Diakses dari 99% Invisible: https://99percentinvisible.org/article/underwater-cloud-inside-cables-carrying-99-international-data-traffic\n",
            "\n",
            "Dedi Dinarto. The Security Challenges Facing Indonesia’s Submarine Cable Communication System. Diakses dari The Diplomat: https://thediplomat.com/2021/06/the-security-challenges-facing-indonesias-submarine-cable-communication-system\n",
            "\n",
            "Setelah selesai membaca, yuk berikan artikel ini penilaian! Klik berdasarkan jumlah bintang untuk menilai!\n",
            "\n",
            "\n",
            "\n",
            "\n",
            "\n",
            "\n",
            "\n",
            "Berikan penilaian Rata-rata nilai 5 / 5. Banyaknya vote: 3 Belum ada yang menilai! Yuk jadi yang pertama kali menilai! Baca juga:\n",
            "\n",
            "\n",
            "\n",
            "Bagikan ini: Cetak\n",
            "\n",
            "WhatsApp\n",
            "\n",
            "Facebook\n",
            "\n",
            "Twitter\n",
            "\n",
            "Telegram\n",
            "\n",
            "\n"
          ]
        }
      ]
    },
    {
      "cell_type": "code",
      "metadata": {
        "colab": {
          "base_uri": "https://localhost:8080/"
        },
        "id": "McPeY1sZiD1q",
        "outputId": "4b6537c6-ef1c-4c20-f6b3-2a6f7c412641"
      },
      "source": [
        "# Tokenization\n",
        "text = corpus\n",
        "sentence_list = nltk.sent_tokenize(text) #A list of senetences\n",
        "\n",
        "# Print the list of sentences\n",
        "print(sentence_list)"
      ],
      "execution_count": 5,
      "outputs": [
        {
          "output_type": "stream",
          "name": "stdout",
          "text": [
            "['Telkomsel, Indihome, dan Kabel Laut JaSuKa\\n\\nPada hari Minggu lalu (19 September 2021), terjadi gangguan jaringan internet pada Telkomsel dan Indihome.', 'Gangguan tersebut menyebabkan penurunan kualitas layanan TelkomGroup baik fixed maupun mobile broadband di beberapa wilayah Indonesia.', 'Di masa pandemi yang menuntut orang untuk berada di rumah seperti ini, gangguan internet tentu menjadi masalah besar.', 'Berbagai kegiatan penting seperti Seleksi Kompetensi Dasar (SKD) CPNS mengalami penundaan.', 'Netizen pun banyak berkomentar negatif terkait hal ini.', 'Saat artikel ini dirilis, gangguan tersebut mungkin belum benar-benar terselesaikan.', 'Gangguan tersebut disebabkan oleh masalah pada sistem komunikasi kabel laut JaSuKa (Jawa, Sumatera dan Kalimantan) ruas Batam-Pontianak.', 'Telkom memperkirakan proses perbaikan kabel laut yang terganggu akan berlangsung sekitar sebulan.', 'Meski begitu, Telkom mencoba berbagai alternatif agar jaringan internet tetap dapat berjalan sebaik mungkin, meski tentu tidak sebaik ketika kondisi normal.', 'Bagaimana pun juga, gangguan ini membuat banyak orang bertanya-tanya, “Apa hubungannya kabel di laut dengan internet?”, “Kenapa jaringan internet itu malah lewat kabel laut?”, “Kenapa nggak pakai satelit aja?”, “Kenapa jaringannya tidak segera membaik?”, dan lainnya.', 'Artikel singkat ini akan mencoba membahas sedikit terkait hal itu.', 'Ya, Internet itu ada di Bawah Laut\\n\\nInternet sering diasosiasikan dengan kata cloud atau wireless sehingga kita merasa bahwa internet itu dibawa oleh udara di sekitar kita.', 'Ketika kita mendengar kata “jaringan internet”, yang terbayang mungkin gelombang antara menara pemancar di Bumi dengan satelit di angkasa.', 'Itu tidak sepenuhnya salah.', 'Internet memang ada di sekitar kita dan satelit memegang peran penting untuk itu.', 'Namun, persepsi itu membuat kita melupakan bagian lain dari internet.', 'Bagian terpenting yang sangat vital namun tidak akan pernah kita lihat, yaitu kabel laut.', 'Sebelumnya, perlu kita ketahui bersama bahwa:\\n\\n99% Komunikasi Data Internasional itu Melalui Kabel Laut\\n\\nItu adalah kalimat yang sudah banyak disampaikan di berbagai media massa, namun sepertinya masih belum banyak diketahui masyarakat umum.', 'Lebih detailnya lagi, hanya sekitar 300 kabel bawah laut yang bertanggung jawab terhadap 99% lalu lintas komunikasi data internasional.', 'Jaringan Kabel Laut di Dunia – www.submarinecablemap.com\\n\\nGambar di atas merupakan jaringan kabel laut di dunia yang dapat diakses di www.submarinecablemap.com.', 'Di sana, kita tidak hanya bisa melihat jaringan kabel secara keseluruhan, namun juga melihat lebih detail terkait salah satu kabel yang ada.', 'Dari gambar di atas, jaringannya memang terlihat sangat banyak dan sangat rumit.', 'Namun, kita perlu ingat bahwa komunikasi yang senantiasa terjadi di internet itu juga sangat banyak dan sangat rumit, jauh lebih banyak dan lebih rumit dari yang bisa kita bayangkan.', 'Ketika kita mengirim satu chat ke teman di samping kita misalnya.', 'Bisa jadi chat kita akan menempuh perjalanan yang amat sangat jauh.', 'Mulai dari puluhan kilometer jalur darat secara wireless, kemudian melalui ribuan kilometer kabel laut, menuju ke data center di China atau Amerika, lalu kembali lagi ke Indonesia melalui kabel laut, dan sampai ke teman di samping kita secara wireless.', 'Itu salah satu skenario yang mungkin terjadi, bisa saja jauh lebih pendek atau jauh lebih panjang.', 'Sebagai mahasiswa Teknik Elektro yang pernah sedikit mendalami internet, yang bisa penulis katakan terkait internet adalah “It’s never been simple”\\n\\nMengenal Kabel Laut\\n\\nKetika mendengar bahwa 99% internet itu melewati kabel laut, apa bayangan kita terkait bentuk fisik dari kabel laut itu?', 'Ukurannya mungkin memang sangat bervariasi, namun gambar berikut bisa memberikan gambaran bahwa ukuran kabelnya bisa jadi hanya sekecil ini\\n\\nIsi dari Kabel Laut – 99percentinvisible.org\\n\\nHampir seluruh luasannya digunakan sebagai pelindung.', 'Bagian yang mengalirkan informasi adalah fiber optik yang ukurannya tidak berbeda jauh dari sehelai rambut kita.', 'Meski sangat kecil, dia mampu membawa informasi dengan sangat cepat, mendekati kecepatan cahaya.', 'Itu karena informasi dibawa bukan sebagai sinyal listrik seperti kabel di rumah, namun sebagai sinyal cahaya.', 'Kapasitasnya juga sangat besar, satu helai saja bisa memiliki kapasitas 100 gigabit per sekon.', '[Baca: Dasar Komunikasi Fiber Optik dan FTTH (Fiber To The Home)]\\n\\nDengan itu semua, kabel laut jauh lebih cepat daripada satelit.', 'Itu karena satelit yang biasanya digunakan untuk internet berada puluhan ribu kilometer di atas kita.', 'Sementara itu, jalur melalui laut tidak akan lebih dari belasan ribu kilometer saja.', 'Kapasitas transfer data dari satelit juga jauh lebih sulit untuk ditingkatkan dibanding kabel laut.', 'Maka, meski keduanya memanfaatkan kecepatan cahaya, secara umum kabel laut tetap jauh lebih cepat daripada satelit.', '(Baca: SpaceX Luncurkan 60 Satelit Penyedia Internet Starlink)\\n\\nNamun, kabel laut juga memiliki banyak masalah.', 'Banyak pihak yang menyebutkan bahwa kabel laut yang menjadi tulang punggung internet kita ini sebenarnya sangatlah rentan.', 'Kabel laut dapat mengalami masalah akibat faktor alam, namun ini hanya mencakup 14 persen saja.', 'Association of Sea Cable Communication Systems menyebutkan bahwa sebanyak 47% gangguan kabel laut disebabkan oleh jangkar kapal.', 'Sementara itu, 28% disebabkan oleh sektor perikanan yang menggunakan FAD (fish aggregating devices).', 'Di Indonesia pun, jangkar juga menjadi penyebab gangguan kabel terbesar.', 'Hal itu mengingat lautan Indonesia juga sering dilewati banyak kapal.', 'Jaringan Kabel Laut di Indonesia\\n\\nKabel laut yang ada di negeri kita juga cukup banyak.', 'Hal itu dapat dilihat pada Gambar berikut yang juga didapatkan dari www.submarinecablemap.com.', 'Pada Gambar ini, jaringan kabel JaSuKa yang dimiliki Telkom Indonesia terlihat berwarna biru tua dan menghubungkan berbagai titik di Jawa, Sumatera, dan Kalimantan.', 'JaSuKa memiliki total panjang hampir 11 ribu kilometer dan disebut menjadi salah satu yang terpanjang di dunia.', 'Jaringan Kabel Laut di Indonesia – www.submarinecablemap.com\\n\\nKabel laut memang jauh lebih murah daripada satelit, namun tetap saja tidak mudah dan tidak sederhana.', 'Baik perencanaan maupun pengelolaannya memerlukan banyak pengorbanan.', 'Ini wajar saja mengingat dunia bawah laut sangatlah kompleks dan penuh dengan berbagai hal yang tak terduga.', 'Perlu diketahui pula bahwa setiap beberapa puluh kilometer, perlu terdapat repeater untuk menguatkan kembali sinyal cahaya yang telah melemah.', 'Melihat kompleksitas itu, wajar saja jika perbaikan gangguan tidak bisa selesai dalam satu malam.', 'Meski demikian, sistem yang besar umumnya memiliki berbagai alternatif jika sistem utamanya gagal.', 'Hal ini juga kita dengar dari pihak Telkom, bahwa jalur backup dan alternatif telah diaktifkan untuk destinasi utama tertentu.', 'Berbagai hal teknis yang tidak akan dipahami masyarakat umum pasti juga telah dilakukan.', 'Bagaimana pun juga, gangguan ini menunjukan pada kita semua bahwa sistem internet di Indonesia sebenarnya masih belum kuat dan sangat rentan, apalagi jika kita meninjau Indonesia Timur.', 'Di satu sisi, masyarakat umum perlu menyadari bahwa sistem internet secara fisiknya memang sangat kompleks dan sangat rentan terhadap berbagai gangguan serta tidak bisa diperbaiki dengan mudah.', 'Di sisi lain, berbagai pihak yang berpartisipasi langsung di dalamnya perlu terus melakukan evaluasi dan pengembangan agar sistem internet di negeri kita dapat menjadi lebih handal.', '(Baca: Analisis terhadap Kualitas Jaringan Internet Indonesia yang Memburuk)\\n\\nReferensi\\n\\nNur Fitriatus Shalihah, Sari Hardiyanto.', 'Kronologi Gangguan Indihome dan Telkomsel Selama Beberapa Hari.', 'Diakses dari Kompas: https://www.kompas.com/tren/read/2021/09/22/100958665/kronologi-gangguan-indihome-dan-telkomsel-selama-beberapa-hari?page=all\\n\\nConney Stephanie, Oik Yusuf.', 'Telkom Sebut Perbaikan Kabel Laut Jasuka Butuh Waktu Sebulan.', 'Diakses dari Kompas: https://tekno.kompas.com/read/2021/09/22/19534287/telkom-sebut-perbaikan-kabel-laut-jasuka-butuh-waktu-sebulan\\n\\nSubmarine Cable Map.', 'https://www.submarinecablemap.com\\n\\nKurt Kohlstedt.', 'Underwater Cloud: Inside the Cables Carrying 99% of Transoceanic Data Traffic.', 'Diakses dari 99% Invisible: https://99percentinvisible.org/article/underwater-cloud-inside-cables-carrying-99-international-data-traffic\\n\\nDedi Dinarto.', 'The Security Challenges Facing Indonesia’s Submarine Cable Communication System.', 'Diakses dari The Diplomat: https://thediplomat.com/2021/06/the-security-challenges-facing-indonesias-submarine-cable-communication-system\\n\\nSetelah selesai membaca, yuk berikan artikel ini penilaian!', 'Klik berdasarkan jumlah bintang untuk menilai!', 'Berikan penilaian Rata-rata nilai 5 / 5.', 'Banyaknya vote: 3 Belum ada yang menilai!', 'Yuk jadi yang pertama kali menilai!', 'Baca juga:\\n\\n\\n\\nBagikan ini: Cetak\\n\\nWhatsApp\\n\\nFacebook\\n\\nTwitter\\n\\nTelegram']\n"
          ]
        }
      ]
    },
    {
      "cell_type": "code",
      "metadata": {
        "id": "6lEm5MzxiP5w"
      },
      "source": [
        "#a function to return a random greeting response to a users greeting\n",
        "def greeting_response(text):\n",
        "    text = text.lower()\n",
        "    \n",
        "    #Bots greeting respone\n",
        "    bot_greetings = ['halo','hai','welcome to warstek','*eyebrows up*']\n",
        "    \n",
        "    #Users greeting\n",
        "    user_greetings = ['Haloo','nice to meet u','Hi','greetings','whatsap']\n",
        "    \n",
        "    for word in text.split():\n",
        "        if word in user_greetings:\n",
        "            return random.choice(bot_greetings)\n",
        "        \n",
        "    #Random response to greeting\n",
        "    def gratitude_response(text):\n",
        "        text=text.lower()"
      ],
      "execution_count": 7,
      "outputs": []
    },
    {
      "cell_type": "code",
      "metadata": {
        "id": "nJu2Co5NiXKc"
      },
      "source": [
        "def index_sort(list_var):\n",
        "    length = len(list_var)\n",
        "    list_index = list(range(0, length))\n",
        "    \n",
        "    x = list_var        \n",
        "    for i in range(length):\n",
        "        for j in range(length):\n",
        "            if x[list_index[i]] > x[list_index[j]]:\n",
        "                #swap\n",
        "                temp = list_index[i]\n",
        "                list_index[i] = list_index[j]\n",
        "                list_index[j] = temp\n",
        "                \n",
        "    return list_index"
      ],
      "execution_count": 8,
      "outputs": []
    },
    {
      "cell_type": "code",
      "metadata": {
        "id": "yvy_Pd_XiehR"
      },
      "source": [
        "# Creat Bots Response\n",
        "def bot_response(user_input):\n",
        "    user_input=user_input.lower()\n",
        "    sentence_list.append(user_input)\n",
        "    bot_response= ''\n",
        "    cm=CountVectorizer().fit_transform(sentence_list)\n",
        "    similarity_scores=cosine_similarity(cm[-1],cm)\n",
        "    similarity_scores_list=similarity_scores.flatten()\n",
        "    index=index_sort(similarity_scores_list)\n",
        "    index=index[1:]\n",
        "    response_flag=0\n",
        "    \n",
        "    j=0\n",
        "    for i in range(len(index)):\n",
        "        if similarity_scores_list[index[i]]>0.0:\n",
        "            bot_response=bot_response+' '+sentence_list[index[i]]\n",
        "            response_flag=1\n",
        "            j=j+1\n",
        "        if j>2:\n",
        "            break\n",
        "\n",
        "        if response_flag==0:\n",
        "            bot_response=bot_response+\" \"+\"Apa yang anda ingin pertanyakan?\"\n",
        "\n",
        "        sentence_list.remove(user_input) \n",
        "\n",
        "        return bot_response"
      ],
      "execution_count": 18,
      "outputs": []
    },
    {
      "cell_type": "code",
      "metadata": {
        "colab": {
          "base_uri": "https://localhost:8080/"
        },
        "id": "peBLoGzPii8d",
        "outputId": "2cfd265f-b607-43a3-ad6c-078c4d2c83c9"
      },
      "source": [
        "#Start Chat\n",
        "print(\"Doc Bot: halo, selamat datang di warstek\")\n",
        "\n",
        "exit_list=['exit','bye','keluar','quit', 'sampai jumpa']\n",
        "\n",
        "while(True):\n",
        "    user_input=input()\n",
        "    if user_input.lower() in exit_list:\n",
        "        print('Doc Bot: Bye Bye Sampai jumpa lagi')\n",
        "        break\n",
        "    else:\n",
        "        if greeting_response(user_input)!= None:\n",
        "            print('Doc Bot: '+ greeting_response(user_input))\n",
        "        else:\n",
        "            print('Doc Bot: '+ bot_response(user_input))"
      ],
      "execution_count": 21,
      "outputs": [
        {
          "output_type": "stream",
          "name": "stdout",
          "text": [
            "Doc Bot: halo, selamat datang di warstek\n",
            "haloo\n",
            "Doc Bot:  Apa yang anda ingin pertanyakan?\n",
            "kapan gangguan jaringan internet pada Telkomsel dan Indihome\n",
            "Doc Bot:  Telkomsel, Indihome, dan Kabel Laut JaSuKa\n",
            "\n",
            "Pada hari Minggu lalu (19 September 2021), terjadi gangguan jaringan internet pada Telkomsel dan Indihome.\n",
            "Kenapa Kabel laut memang jauh lebih murah daripada satelit?\n",
            "Doc Bot:  Jaringan Kabel Laut di Indonesia – www.submarinecablemap.com\n",
            "\n",
            "Kabel laut memang jauh lebih murah daripada satelit, namun tetap saja tidak mudah dan tidak sederhana.\n",
            "sampai jumpa\n",
            "Doc Bot: Bye Bye Sampai jumpa lagi\n"
          ]
        }
      ]
    }
  ]
}